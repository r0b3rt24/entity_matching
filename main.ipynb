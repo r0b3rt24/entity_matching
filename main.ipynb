{
  "nbformat": 4,
  "nbformat_minor": 0,
  "metadata": {
    "colab": {
      "name": "main.ipynb",
      "version": "0.3.2",
      "provenance": [],
      "toc_visible": true
    },
    "language_info": {
      "codemirror_mode": {
        "name": "ipython",
        "version": 3
      },
      "file_extension": ".py",
      "mimetype": "text/x-python",
      "name": "python",
      "nbconvert_exporter": "python",
      "pygments_lexer": "ipython3",
      "version": "3.7.1"
    },
    "kernelspec": {
      "display_name": "Python 3",
      "language": "python",
      "name": "python3"
    }
  },
  "cells": [
    {
      "metadata": {
        "id": "zb75jqyIjvWX",
        "colab_type": "text"
      },
      "cell_type": "markdown",
      "source": [
        "# Entity Matching\n",
        "\n",
        "**This is a project for CS639@UW-Madison 2019 Spring** <br>\n",
        "\n",
        "Author: Han Cao <br>\n",
        "Date: April/23/2019\n",
        "\n",
        "### Information of the dataset\n",
        "\n",
        "This dataset contains product data from Walmart and Amazon. The dataset contains two tables the left table (denoted by ltable), and the right table (denoted by rtable). Further, the dataset contains a list of training examples that correspond to true product matches (only the ids are given) and a collection of test examples for evaluation.\n",
        "\n",
        "- Table ltable has the next schema: ltable_id, title, category, brand, modelno, price\n",
        "\n",
        "- Table rtable has the next schema: rtable_id, title, category, brand, modelno, price\n",
        "\n",
        "- The training data file has the next schema: ltable_id, rtable_id, label, id\n",
        "\n",
        "- The test data file has the next schema: ltable_id, rtable_id, id"
      ]
    },
    {
      "metadata": {
        "id": "13HBqJarkYro",
        "colab_type": "code",
        "colab": {
          "base_uri": "https://localhost:8080/",
          "height": 34
        },
        "outputId": "d6a1846a-4604-478e-f52a-a6d75dab022e"
      },
      "cell_type": "code",
      "source": [
        "!pwd"
      ],
      "execution_count": 2,
      "outputs": [
        {
          "output_type": "stream",
          "text": [
            "/content\n"
          ],
          "name": "stdout"
        }
      ]
    },
    {
      "metadata": {
        "id": "UzIbwTdgjvWZ",
        "colab_type": "code",
        "colab": {
          "base_uri": "https://localhost:8080/",
          "height": 359
        },
        "outputId": "9dac6b56-16d1-4aaa-fa08-fbcdd5d0083d"
      },
      "cell_type": "code",
      "source": [
        "# Read the CSV file in\n",
        "import pandas as pd\n",
        "train = pd.read_csv(\"train.csv\")\n",
        "train.head(10)"
      ],
      "execution_count": 4,
      "outputs": [
        {
          "output_type": "execute_result",
          "data": {
            "text/html": [
              "<div>\n",
              "<style scoped>\n",
              "    .dataframe tbody tr th:only-of-type {\n",
              "        vertical-align: middle;\n",
              "    }\n",
              "\n",
              "    .dataframe tbody tr th {\n",
              "        vertical-align: top;\n",
              "    }\n",
              "\n",
              "    .dataframe thead th {\n",
              "        text-align: right;\n",
              "    }\n",
              "</style>\n",
              "<table border=\"1\" class=\"dataframe\">\n",
              "  <thead>\n",
              "    <tr style=\"text-align: right;\">\n",
              "      <th></th>\n",
              "      <th>ltable_id</th>\n",
              "      <th>rtable_id</th>\n",
              "      <th>label</th>\n",
              "      <th>id</th>\n",
              "    </tr>\n",
              "  </thead>\n",
              "  <tbody>\n",
              "    <tr>\n",
              "      <th>0</th>\n",
              "      <td>621</td>\n",
              "      <td>3167</td>\n",
              "      <td>0</td>\n",
              "      <td>1</td>\n",
              "    </tr>\n",
              "    <tr>\n",
              "      <th>1</th>\n",
              "      <td>2115</td>\n",
              "      <td>8789</td>\n",
              "      <td>0</td>\n",
              "      <td>2</td>\n",
              "    </tr>\n",
              "    <tr>\n",
              "      <th>2</th>\n",
              "      <td>278</td>\n",
              "      <td>9064</td>\n",
              "      <td>0</td>\n",
              "      <td>3</td>\n",
              "    </tr>\n",
              "    <tr>\n",
              "      <th>3</th>\n",
              "      <td>1673</td>\n",
              "      <td>13279</td>\n",
              "      <td>0</td>\n",
              "      <td>4</td>\n",
              "    </tr>\n",
              "    <tr>\n",
              "      <th>4</th>\n",
              "      <td>2305</td>\n",
              "      <td>2948</td>\n",
              "      <td>0</td>\n",
              "      <td>5</td>\n",
              "    </tr>\n",
              "    <tr>\n",
              "      <th>5</th>\n",
              "      <td>1543</td>\n",
              "      <td>10366</td>\n",
              "      <td>0</td>\n",
              "      <td>6</td>\n",
              "    </tr>\n",
              "    <tr>\n",
              "      <th>6</th>\n",
              "      <td>88</td>\n",
              "      <td>3269</td>\n",
              "      <td>1</td>\n",
              "      <td>7</td>\n",
              "    </tr>\n",
              "    <tr>\n",
              "      <th>7</th>\n",
              "      <td>768</td>\n",
              "      <td>10397</td>\n",
              "      <td>0</td>\n",
              "      <td>11</td>\n",
              "    </tr>\n",
              "    <tr>\n",
              "      <th>8</th>\n",
              "      <td>2476</td>\n",
              "      <td>18730</td>\n",
              "      <td>0</td>\n",
              "      <td>12</td>\n",
              "    </tr>\n",
              "    <tr>\n",
              "      <th>9</th>\n",
              "      <td>470</td>\n",
              "      <td>10874</td>\n",
              "      <td>1</td>\n",
              "      <td>13</td>\n",
              "    </tr>\n",
              "  </tbody>\n",
              "</table>\n",
              "</div>"
            ],
            "text/plain": [
              "   ltable_id  rtable_id  label  id\n",
              "0        621       3167      0   1\n",
              "1       2115       8789      0   2\n",
              "2        278       9064      0   3\n",
              "3       1673      13279      0   4\n",
              "4       2305       2948      0   5\n",
              "5       1543      10366      0   6\n",
              "6         88       3269      1   7\n",
              "7        768      10397      0  11\n",
              "8       2476      18730      0  12\n",
              "9        470      10874      1  13"
            ]
          },
          "metadata": {
            "tags": []
          },
          "execution_count": 4
        }
      ]
    },
    {
      "metadata": {
        "id": "5NyAGTO8jvWe",
        "colab_type": "code",
        "colab": {
          "base_uri": "https://localhost:8080/",
          "height": 359
        },
        "outputId": "ae2bc123-c210-481a-c92a-5494f381c1e1"
      },
      "cell_type": "code",
      "source": [
        "test = pd.read_csv(\"test.csv\")\n",
        "test.head(10)"
      ],
      "execution_count": 5,
      "outputs": [
        {
          "output_type": "execute_result",
          "data": {
            "text/html": [
              "<div>\n",
              "<style scoped>\n",
              "    .dataframe tbody tr th:only-of-type {\n",
              "        vertical-align: middle;\n",
              "    }\n",
              "\n",
              "    .dataframe tbody tr th {\n",
              "        vertical-align: top;\n",
              "    }\n",
              "\n",
              "    .dataframe thead th {\n",
              "        text-align: right;\n",
              "    }\n",
              "</style>\n",
              "<table border=\"1\" class=\"dataframe\">\n",
              "  <thead>\n",
              "    <tr style=\"text-align: right;\">\n",
              "      <th></th>\n",
              "      <th>ltable_id</th>\n",
              "      <th>rtable_id</th>\n",
              "      <th>id</th>\n",
              "    </tr>\n",
              "  </thead>\n",
              "  <tbody>\n",
              "    <tr>\n",
              "      <th>0</th>\n",
              "      <td>1853</td>\n",
              "      <td>2139</td>\n",
              "      <td>0</td>\n",
              "    </tr>\n",
              "    <tr>\n",
              "      <th>1</th>\n",
              "      <td>1718</td>\n",
              "      <td>11835</td>\n",
              "      <td>8</td>\n",
              "    </tr>\n",
              "    <tr>\n",
              "      <th>2</th>\n",
              "      <td>1624</td>\n",
              "      <td>5013</td>\n",
              "      <td>9</td>\n",
              "    </tr>\n",
              "    <tr>\n",
              "      <th>3</th>\n",
              "      <td>614</td>\n",
              "      <td>5969</td>\n",
              "      <td>10</td>\n",
              "    </tr>\n",
              "    <tr>\n",
              "      <th>4</th>\n",
              "      <td>1512</td>\n",
              "      <td>19684</td>\n",
              "      <td>15</td>\n",
              "    </tr>\n",
              "    <tr>\n",
              "      <th>5</th>\n",
              "      <td>1136</td>\n",
              "      <td>17384</td>\n",
              "      <td>16</td>\n",
              "    </tr>\n",
              "    <tr>\n",
              "      <th>6</th>\n",
              "      <td>95</td>\n",
              "      <td>12</td>\n",
              "      <td>19</td>\n",
              "    </tr>\n",
              "    <tr>\n",
              "      <th>7</th>\n",
              "      <td>296</td>\n",
              "      <td>13803</td>\n",
              "      <td>28</td>\n",
              "    </tr>\n",
              "    <tr>\n",
              "      <th>8</th>\n",
              "      <td>280</td>\n",
              "      <td>17506</td>\n",
              "      <td>29</td>\n",
              "    </tr>\n",
              "    <tr>\n",
              "      <th>9</th>\n",
              "      <td>1816</td>\n",
              "      <td>1832</td>\n",
              "      <td>31</td>\n",
              "    </tr>\n",
              "  </tbody>\n",
              "</table>\n",
              "</div>"
            ],
            "text/plain": [
              "   ltable_id  rtable_id  id\n",
              "0       1853       2139   0\n",
              "1       1718      11835   8\n",
              "2       1624       5013   9\n",
              "3        614       5969  10\n",
              "4       1512      19684  15\n",
              "5       1136      17384  16\n",
              "6         95         12  19\n",
              "7        296      13803  28\n",
              "8        280      17506  29\n",
              "9       1816       1832  31"
            ]
          },
          "metadata": {
            "tags": []
          },
          "execution_count": 5
        }
      ]
    },
    {
      "metadata": {
        "id": "nsL0eI0ojvWh",
        "colab_type": "code",
        "colab": {
          "base_uri": "https://localhost:8080/",
          "height": 359
        },
        "outputId": "a364ef96-3d04-4cfc-e4ab-cdf0ae3d3d09"
      },
      "cell_type": "code",
      "source": [
        "ltable = pd.read_csv(\"ltable.csv\", sep = \",\", encoding='latin-1')\n",
        "ltable.head(10)"
      ],
      "execution_count": 6,
      "outputs": [
        {
          "output_type": "execute_result",
          "data": {
            "text/html": [
              "<div>\n",
              "<style scoped>\n",
              "    .dataframe tbody tr th:only-of-type {\n",
              "        vertical-align: middle;\n",
              "    }\n",
              "\n",
              "    .dataframe tbody tr th {\n",
              "        vertical-align: top;\n",
              "    }\n",
              "\n",
              "    .dataframe thead th {\n",
              "        text-align: right;\n",
              "    }\n",
              "</style>\n",
              "<table border=\"1\" class=\"dataframe\">\n",
              "  <thead>\n",
              "    <tr style=\"text-align: right;\">\n",
              "      <th></th>\n",
              "      <th>ltable_id</th>\n",
              "      <th>title</th>\n",
              "      <th>category</th>\n",
              "      <th>brand</th>\n",
              "      <th>modelno</th>\n",
              "      <th>price</th>\n",
              "    </tr>\n",
              "  </thead>\n",
              "  <tbody>\n",
              "    <tr>\n",
              "      <th>0</th>\n",
              "      <td>0</td>\n",
              "      <td>draper infrared remote transmitter</td>\n",
              "      <td>electronics - general</td>\n",
              "      <td>draper</td>\n",
              "      <td>121066</td>\n",
              "      <td>58.45</td>\n",
              "    </tr>\n",
              "    <tr>\n",
              "      <th>1</th>\n",
              "      <td>1</td>\n",
              "      <td>epson 1500 hours 200w uhe projector lamp elplp12</td>\n",
              "      <td>monitors</td>\n",
              "      <td>epson</td>\n",
              "      <td>elplp12</td>\n",
              "      <td>438.84</td>\n",
              "    </tr>\n",
              "    <tr>\n",
              "      <th>2</th>\n",
              "      <td>2</td>\n",
              "      <td>comprehensive two-piece 75 precision bnc jack ...</td>\n",
              "      <td>tv accessories</td>\n",
              "      <td>comprehensive</td>\n",
              "      <td>bj-2c7559</td>\n",
              "      <td>59.25</td>\n",
              "    </tr>\n",
              "    <tr>\n",
              "      <th>3</th>\n",
              "      <td>3</td>\n",
              "      <td>d-link dcs-1100 network camera</td>\n",
              "      <td>garden - general</td>\n",
              "      <td>d-link</td>\n",
              "      <td>dcs-1100</td>\n",
              "      <td>99.82</td>\n",
              "    </tr>\n",
              "    <tr>\n",
              "      <th>4</th>\n",
              "      <td>4</td>\n",
              "      <td>startech.com rkpw247015 24 outlet power strip</td>\n",
              "      <td>electronics - general</td>\n",
              "      <td>startech</td>\n",
              "      <td>rkpw247015</td>\n",
              "      <td>59.00</td>\n",
              "    </tr>\n",
              "    <tr>\n",
              "      <th>5</th>\n",
              "      <td>5</td>\n",
              "      <td>3m fr530cb ergonomic adjustable footrest</td>\n",
              "      <td>furniture</td>\n",
              "      <td>3m</td>\n",
              "      <td>fr530cb</td>\n",
              "      <td>67.88</td>\n",
              "    </tr>\n",
              "    <tr>\n",
              "      <th>6</th>\n",
              "      <td>6</td>\n",
              "      <td>hp c6020b coated paper 1 roll 36-inches x 150 ft</td>\n",
              "      <td>stationery &amp; office machinery</td>\n",
              "      <td>hp</td>\n",
              "      <td>c6020b</td>\n",
              "      <td>49.88</td>\n",
              "    </tr>\n",
              "    <tr>\n",
              "      <th>7</th>\n",
              "      <td>7</td>\n",
              "      <td>visioneer rw120-wu roadwarrior sheetfed scanner</td>\n",
              "      <td>electronics - general</td>\n",
              "      <td>visioneer</td>\n",
              "      <td>rw120-wu</td>\n",
              "      <td>199.98</td>\n",
              "    </tr>\n",
              "    <tr>\n",
              "      <th>8</th>\n",
              "      <td>8</td>\n",
              "      <td>brother dk2113 ql label printers continuous le...</td>\n",
              "      <td>stationery &amp; office machinery</td>\n",
              "      <td>brother</td>\n",
              "      <td>dk2113</td>\n",
              "      <td>64.88</td>\n",
              "    </tr>\n",
              "    <tr>\n",
              "      <th>9</th>\n",
              "      <td>9</td>\n",
              "      <td>3m mw310le gel mouse pad</td>\n",
              "      <td>electronics - general</td>\n",
              "      <td>3m</td>\n",
              "      <td>mw310le</td>\n",
              "      <td>17.88</td>\n",
              "    </tr>\n",
              "  </tbody>\n",
              "</table>\n",
              "</div>"
            ],
            "text/plain": [
              "   ltable_id                                              title  \\\n",
              "0          0                 draper infrared remote transmitter   \n",
              "1          1   epson 1500 hours 200w uhe projector lamp elplp12   \n",
              "2          2  comprehensive two-piece 75 precision bnc jack ...   \n",
              "3          3                     d-link dcs-1100 network camera   \n",
              "4          4      startech.com rkpw247015 24 outlet power strip   \n",
              "5          5           3m fr530cb ergonomic adjustable footrest   \n",
              "6          6   hp c6020b coated paper 1 roll 36-inches x 150 ft   \n",
              "7          7    visioneer rw120-wu roadwarrior sheetfed scanner   \n",
              "8          8  brother dk2113 ql label printers continuous le...   \n",
              "9          9                           3m mw310le gel mouse pad   \n",
              "\n",
              "                        category          brand     modelno   price  \n",
              "0          electronics - general         draper      121066   58.45  \n",
              "1                       monitors          epson     elplp12  438.84  \n",
              "2                 tv accessories  comprehensive   bj-2c7559   59.25  \n",
              "3               garden - general         d-link    dcs-1100   99.82  \n",
              "4          electronics - general       startech  rkpw247015   59.00  \n",
              "5                      furniture             3m     fr530cb   67.88  \n",
              "6  stationery & office machinery             hp      c6020b   49.88  \n",
              "7          electronics - general      visioneer    rw120-wu  199.98  \n",
              "8  stationery & office machinery        brother      dk2113   64.88  \n",
              "9          electronics - general             3m     mw310le   17.88  "
            ]
          },
          "metadata": {
            "tags": []
          },
          "execution_count": 6
        }
      ]
    },
    {
      "metadata": {
        "id": "9a4JuBqIjvWj",
        "colab_type": "code",
        "colab": {
          "base_uri": "https://localhost:8080/",
          "height": 359
        },
        "outputId": "c732d811-010a-4196-ae86-7cbd8864f592"
      },
      "cell_type": "code",
      "source": [
        "rtable = pd.read_csv(\"rtable.csv\", sep = \",\", encoding='latin-1')\n",
        "rtable.head(10)"
      ],
      "execution_count": 7,
      "outputs": [
        {
          "output_type": "execute_result",
          "data": {
            "text/html": [
              "<div>\n",
              "<style scoped>\n",
              "    .dataframe tbody tr th:only-of-type {\n",
              "        vertical-align: middle;\n",
              "    }\n",
              "\n",
              "    .dataframe tbody tr th {\n",
              "        vertical-align: top;\n",
              "    }\n",
              "\n",
              "    .dataframe thead th {\n",
              "        text-align: right;\n",
              "    }\n",
              "</style>\n",
              "<table border=\"1\" class=\"dataframe\">\n",
              "  <thead>\n",
              "    <tr style=\"text-align: right;\">\n",
              "      <th></th>\n",
              "      <th>rtable_id</th>\n",
              "      <th>title</th>\n",
              "      <th>category</th>\n",
              "      <th>brand</th>\n",
              "      <th>modelno</th>\n",
              "      <th>price</th>\n",
              "    </tr>\n",
              "  </thead>\n",
              "  <tbody>\n",
              "    <tr>\n",
              "      <th>0</th>\n",
              "      <td>0</td>\n",
              "      <td>koss eq50 3-band stereo equalizer</td>\n",
              "      <td>headphone accessories</td>\n",
              "      <td>koss</td>\n",
              "      <td>152132</td>\n",
              "      <td>12.65</td>\n",
              "    </tr>\n",
              "    <tr>\n",
              "      <th>1</th>\n",
              "      <td>1</td>\n",
              "      <td>kodak black ink cartridge 10b 1163641</td>\n",
              "      <td>inkjet printer ink</td>\n",
              "      <td>kodak</td>\n",
              "      <td>1163641</td>\n",
              "      <td>10.28</td>\n",
              "    </tr>\n",
              "    <tr>\n",
              "      <th>2</th>\n",
              "      <td>2</td>\n",
              "      <td>kingston 128mx64 pc2700 compaq evo d320 ktc-d3...</td>\n",
              "      <td>computers accessories</td>\n",
              "      <td>kingston</td>\n",
              "      <td>ktc-d320 / 1g</td>\n",
              "      <td>33.75</td>\n",
              "    </tr>\n",
              "    <tr>\n",
              "      <th>3</th>\n",
              "      <td>3</td>\n",
              "      <td>kinamax ms-ues2 mini high precision usb 3-butt...</td>\n",
              "      <td>mice</td>\n",
              "      <td>kinamax</td>\n",
              "      <td>ms-ues2</td>\n",
              "      <td>6.99</td>\n",
              "    </tr>\n",
              "    <tr>\n",
              "      <th>4</th>\n",
              "      <td>4</td>\n",
              "      <td>kensington k72349us wireless mouse for netbooks</td>\n",
              "      <td>mice</td>\n",
              "      <td>kensington</td>\n",
              "      <td>k72349us</td>\n",
              "      <td>24.00</td>\n",
              "    </tr>\n",
              "    <tr>\n",
              "      <th>5</th>\n",
              "      <td>5</td>\n",
              "      <td>kensington blackbelt protection band for ipad ...</td>\n",
              "      <td>cases sleeves</td>\n",
              "      <td>kensington</td>\n",
              "      <td>k39324us</td>\n",
              "      <td>23.92</td>\n",
              "    </tr>\n",
              "    <tr>\n",
              "      <th>6</th>\n",
              "      <td>6</td>\n",
              "      <td>just5 j509 easy to use unlocked cell phone wit...</td>\n",
              "      <td>unlocked phones</td>\n",
              "      <td>just5</td>\n",
              "      <td>j509black</td>\n",
              "      <td>64.11</td>\n",
              "    </tr>\n",
              "    <tr>\n",
              "      <th>7</th>\n",
              "      <td>7</td>\n",
              "      <td>imation corp 50pk cdr 700mb 80min 52x-spindle ...</td>\n",
              "      <td>cd-r discs</td>\n",
              "      <td>imation</td>\n",
              "      <td>17301</td>\n",
              "      <td>10.29</td>\n",
              "    </tr>\n",
              "    <tr>\n",
              "      <th>8</th>\n",
              "      <td>8</td>\n",
              "      <td>16x dvd-r media</td>\n",
              "      <td>dvd-r discs</td>\n",
              "      <td>imation</td>\n",
              "      <td>17340</td>\n",
              "      <td>6.99</td>\n",
              "    </tr>\n",
              "    <tr>\n",
              "      <th>9</th>\n",
              "      <td>9</td>\n",
              "      <td>igo arctic laptop cooling pad ac05065-0001</td>\n",
              "      <td>cleaning repair</td>\n",
              "      <td>igo</td>\n",
              "      <td>ac05065-0001</td>\n",
              "      <td>29.99</td>\n",
              "    </tr>\n",
              "  </tbody>\n",
              "</table>\n",
              "</div>"
            ],
            "text/plain": [
              "   rtable_id                                              title  \\\n",
              "0          0                  koss eq50 3-band stereo equalizer   \n",
              "1          1              kodak black ink cartridge 10b 1163641   \n",
              "2          2  kingston 128mx64 pc2700 compaq evo d320 ktc-d3...   \n",
              "3          3  kinamax ms-ues2 mini high precision usb 3-butt...   \n",
              "4          4    kensington k72349us wireless mouse for netbooks   \n",
              "5          5  kensington blackbelt protection band for ipad ...   \n",
              "6          6  just5 j509 easy to use unlocked cell phone wit...   \n",
              "7          7  imation corp 50pk cdr 700mb 80min 52x-spindle ...   \n",
              "8          8                                    16x dvd-r media   \n",
              "9          9         igo arctic laptop cooling pad ac05065-0001   \n",
              "\n",
              "                category       brand        modelno  price  \n",
              "0  headphone accessories        koss         152132  12.65  \n",
              "1     inkjet printer ink       kodak        1163641  10.28  \n",
              "2  computers accessories    kingston  ktc-d320 / 1g  33.75  \n",
              "3                   mice     kinamax        ms-ues2   6.99  \n",
              "4                   mice  kensington       k72349us  24.00  \n",
              "5          cases sleeves  kensington       k39324us  23.92  \n",
              "6        unlocked phones       just5      j509black  64.11  \n",
              "7             cd-r discs     imation          17301  10.29  \n",
              "8            dvd-r discs     imation          17340   6.99  \n",
              "9        cleaning repair         igo   ac05065-0001  29.99  "
            ]
          },
          "metadata": {
            "tags": []
          },
          "execution_count": 7
        }
      ]
    },
    {
      "metadata": {
        "id": "WZL3PwB0jvWm",
        "colab_type": "text"
      },
      "cell_type": "markdown",
      "source": [
        "## Design\n",
        "\n",
        "In order to solve problem, first we need to generate a matching score for each column; and then using pairwise-ER to culculate a matching for each redors; Then we use classification to \"draw a line\" between match and unmact;\n",
        "\n",
        "### 1. Entity matching: \n",
        "1. Levenshitein distance \n",
        "2. Numerical distance (for price)\n",
        "3. Jaro(for brand)\n",
        "...\n",
        "\n",
        "### 2. pairwise-ER:\n",
        "1. SUM\n",
        "2. Formulate\n",
        "...\n",
        "\n",
        "### 3. classification (With or without ER):\n",
        "1. SVM\n",
        "2. Random Forest\n",
        "3. Bagging\n",
        "...\n",
        "\n",
        "**I will try as many as possible combination of these approches to have the best result**"
      ]
    },
    {
      "metadata": {
        "id": "An8cc8b3kt4-",
        "colab_type": "code",
        "colab": {
          "base_uri": "https://localhost:8080/",
          "height": 153
        },
        "outputId": "ffd0ce73-685b-4111-890f-2827d137b539"
      },
      "cell_type": "code",
      "source": [
        "!pip install StringDist"
      ],
      "execution_count": 9,
      "outputs": [
        {
          "output_type": "stream",
          "text": [
            "Collecting StringDist\n",
            "  Downloading https://files.pythonhosted.org/packages/85/f0/c56cbe92b4b06fbc7adaa81917ad34d7027834e166fff2d2db73961c67fa/StringDist-1.0.9.tar.gz\n",
            "Building wheels for collected packages: StringDist\n",
            "  Building wheel for StringDist (setup.py) ... \u001b[?25ldone\n",
            "\u001b[?25h  Stored in directory: /root/.cache/pip/wheels/c3/1b/bb/bf0de4d64d8ca38759811fe3353e441f12feb606fb3d1d2e11\n",
            "Successfully built StringDist\n",
            "Installing collected packages: StringDist\n",
            "Successfully installed StringDist-1.0.9\n"
          ],
          "name": "stdout"
        }
      ]
    },
    {
      "metadata": {
        "id": "DS0KGLe4jvWm",
        "colab_type": "code",
        "colab": {}
      },
      "cell_type": "code",
      "source": [
        "# Using levenshitein distance\n",
        "import stringdist\n",
        "\n",
        "def lavenshitein_val(left, right):\n",
        "    return stringdist.levenshtein(left.lower(), right.lower())"
      ],
      "execution_count": 0,
      "outputs": []
    },
    {
      "metadata": {
        "id": "4n8BoMXdlAfV",
        "colab_type": "code",
        "colab": {
          "base_uri": "https://localhost:8080/",
          "height": 105
        },
        "outputId": "4a1b2b32-b7a9-4c0c-fe7a-fa05fffb2489"
      },
      "cell_type": "code",
      "source": [
        "pip install textdistance"
      ],
      "execution_count": 13,
      "outputs": [
        {
          "output_type": "stream",
          "text": [
            "Collecting textdistance\n",
            "  Downloading https://files.pythonhosted.org/packages/90/19/0ec54a05e269537341b489da4e8a7b86e34b94e0096f67ecfcbab98cd3aa/textdistance-4.1.3-py3-none-any.whl\n",
            "Installing collected packages: textdistance\n",
            "Successfully installed textdistance-4.1.3\n"
          ],
          "name": "stdout"
        }
      ]
    },
    {
      "metadata": {
        "id": "k2UZMHc6jvWo",
        "colab_type": "code",
        "colab": {}
      },
      "cell_type": "code",
      "source": [
        "# use this to calculate the distance between the brand\n",
        "import textdistance\n",
        "def jaro_winkler_val(left, right):\n",
        "    return textdistance.jaro_winkler(left, right);"
      ],
      "execution_count": 0,
      "outputs": []
    },
    {
      "metadata": {
        "id": "iMsiAzn6jvWq",
        "colab_type": "text"
      },
      "cell_type": "markdown",
      "source": [
        "## Matching\n",
        "For each one record in Left we loop through all the records in B to find a match follow the following order:\n",
        "1. Price\n",
        "2. Brand\n",
        "3. category\n",
        "4. name"
      ]
    },
    {
      "metadata": {
        "id": "ftGrhxaEjvWq",
        "colab_type": "code",
        "colab": {
          "base_uri": "https://localhost:8080/",
          "height": 683
        },
        "outputId": "041ee5c4-6ee7-41c3-eed6-23a0a1ef1f33"
      },
      "cell_type": "code",
      "source": [
        "pip install py_entitymatching"
      ],
      "execution_count": 15,
      "outputs": [
        {
          "output_type": "stream",
          "text": [
            "Collecting py_entitymatching\n",
            "\u001b[?25l  Downloading https://files.pythonhosted.org/packages/ee/d3/2eacdb4ee0e268eb4c041fc2921e880262658b24e15ae470559fb1999eab/py_entitymatching-0.3.1.tar.gz (2.0MB)\n",
            "\u001b[K    100% |████████████████████████████████| 2.0MB 12.2MB/s \n",
            "\u001b[?25hCollecting PyPrind (from py_entitymatching)\n",
            "  Downloading https://files.pythonhosted.org/packages/1e/30/e76fb0c45da8aef49ea8d2a90d4e7a6877b45894c25f12fb961f009a891e/PyPrind-2.11.2-py3-none-any.whl\n",
            "Collecting py_stringsimjoin==0.3.0 (from py_entitymatching)\n",
            "\u001b[?25l  Downloading https://files.pythonhosted.org/packages/b9/32/28a76b430e092a330850707e34f89419ce77b06dc303e6c5f6cd701ad5ba/py_stringsimjoin-0.3.0.tar.gz (786kB)\n",
            "\u001b[K    100% |████████████████████████████████| 788kB 19.8MB/s \n",
            "\u001b[?25hRequirement already satisfied: cloudpickle>=0.2.1 in /usr/local/lib/python3.6/dist-packages (from py_entitymatching) (0.6.1)\n",
            "Requirement already satisfied: pyparsing>=2.1.4 in /usr/local/lib/python3.6/dist-packages (from py_entitymatching) (2.4.0)\n",
            "Requirement already satisfied: scikit-learn>=0.18 in /usr/local/lib/python3.6/dist-packages (from py_entitymatching) (0.20.3)\n",
            "Requirement already satisfied: pandas-profiling>=1.4.0 in /usr/local/lib/python3.6/dist-packages (from py_entitymatching) (1.4.1)\n",
            "Requirement already satisfied: joblib in /usr/local/lib/python3.6/dist-packages (from py_stringsimjoin==0.3.0->py_entitymatching) (0.12.5)\n",
            "Requirement already satisfied: pandas>=0.16.0 in /usr/local/lib/python3.6/dist-packages (from py_stringsimjoin==0.3.0->py_entitymatching) (0.24.2)\n",
            "Collecting py_stringmatching>=0.2.1 (from py_stringsimjoin==0.3.0->py_entitymatching)\n",
            "\u001b[?25l  Downloading https://files.pythonhosted.org/packages/3e/a3/89c3d02bbf1e24868673702ebd38a3b76259cb124a5d26d46a050d3fccf2/py_stringmatching-0.4.1.tar.gz (646kB)\n",
            "\u001b[K    100% |████████████████████████████████| 655kB 20.9MB/s \n",
            "\u001b[?25hRequirement already satisfied: six in /usr/local/lib/python3.6/dist-packages (from py_stringsimjoin==0.3.0->py_entitymatching) (1.12.0)\n",
            "Requirement already satisfied: scipy>=0.13.3 in /usr/local/lib/python3.6/dist-packages (from scikit-learn>=0.18->py_entitymatching) (1.2.1)\n",
            "Requirement already satisfied: numpy>=1.8.2 in /usr/local/lib/python3.6/dist-packages (from scikit-learn>=0.18->py_entitymatching) (1.16.3)\n",
            "Requirement already satisfied: matplotlib>=1.4 in /usr/local/lib/python3.6/dist-packages (from pandas-profiling>=1.4.0->py_entitymatching) (3.0.3)\n",
            "Requirement already satisfied: jinja2>=2.8 in /usr/local/lib/python3.6/dist-packages (from pandas-profiling>=1.4.0->py_entitymatching) (2.10.1)\n",
            "Requirement already satisfied: pytz>=2011k in /usr/local/lib/python3.6/dist-packages (from pandas>=0.16.0->py_stringsimjoin==0.3.0->py_entitymatching) (2018.9)\n",
            "Requirement already satisfied: python-dateutil>=2.5.0 in /usr/local/lib/python3.6/dist-packages (from pandas>=0.16.0->py_stringsimjoin==0.3.0->py_entitymatching) (2.5.3)\n",
            "Requirement already satisfied: kiwisolver>=1.0.1 in /usr/local/lib/python3.6/dist-packages (from matplotlib>=1.4->pandas-profiling>=1.4.0->py_entitymatching) (1.0.1)\n",
            "Requirement already satisfied: cycler>=0.10 in /usr/local/lib/python3.6/dist-packages (from matplotlib>=1.4->pandas-profiling>=1.4.0->py_entitymatching) (0.10.0)\n",
            "Requirement already satisfied: MarkupSafe>=0.23 in /usr/local/lib/python3.6/dist-packages (from jinja2>=2.8->pandas-profiling>=1.4.0->py_entitymatching) (1.1.1)\n",
            "Requirement already satisfied: setuptools in /usr/local/lib/python3.6/dist-packages (from kiwisolver>=1.0.1->matplotlib>=1.4->pandas-profiling>=1.4.0->py_entitymatching) (40.9.0)\n",
            "Building wheels for collected packages: py-entitymatching, py-stringsimjoin, py-stringmatching\n",
            "  Building wheel for py-entitymatching (setup.py) ... \u001b[?25ldone\n",
            "\u001b[?25h  Stored in directory: /root/.cache/pip/wheels/8a/11/32/31986854281ff89654b9e67c1cb5d94dd8f87d7408aaef3c91\n",
            "  Building wheel for py-stringsimjoin (setup.py) ... \u001b[?25ldone\n",
            "\u001b[?25h  Stored in directory: /root/.cache/pip/wheels/69/a2/f7/b748da307ea9120633a58847b0ecec23c97cfccdf81d875282\n",
            "  Building wheel for py-stringmatching (setup.py) ... \u001b[?25ldone\n",
            "\u001b[?25h  Stored in directory: /root/.cache/pip/wheels/60/7a/90/37ae79d15afb482c2fa1a58a45fadd1945ed1d09fc8d50d4b6\n",
            "Successfully built py-entitymatching py-stringsimjoin py-stringmatching\n",
            "Installing collected packages: PyPrind, py-stringmatching, py-stringsimjoin, py-entitymatching\n",
            "Successfully installed PyPrind-2.11.2 py-entitymatching-0.3.1 py-stringmatching-0.4.1 py-stringsimjoin-0.3.0\n"
          ],
          "name": "stdout"
        }
      ]
    },
    {
      "metadata": {
        "id": "DqLfFy0njvWt",
        "colab_type": "code",
        "colab": {}
      },
      "cell_type": "code",
      "source": [
        "import py_entitymatching as em\n",
        "import os\n",
        "import pandas as pd"
      ],
      "execution_count": 0,
      "outputs": []
    },
    {
      "metadata": {
        "id": "g1ueDSN4oaKL",
        "colab_type": "code",
        "colab": {}
      },
      "cell_type": "code",
      "source": [
        "# Get the datasets directory\n",
        "datasets_dir = em.get_install_path() + os.sep + 'datasets'\n",
        "\n",
        "# Get the paths of the input tables\n",
        "l = datasets_dir + os.sep + './ltable.csv'\n",
        "r = datasets_dir + os.sep + 'rtable.csv'"
      ],
      "execution_count": 0,
      "outputs": []
    },
    {
      "metadata": {
        "id": "Fp0AdG-LnWbM",
        "colab_type": "code",
        "colab": {
          "base_uri": "https://localhost:8080/",
          "height": 51
        },
        "outputId": "3279370e-ce05-446c-ba3d-3ed244f739ad"
      },
      "cell_type": "code",
      "source": [
        "L_data = em.read_csv_metadata('./ltable.csv',encoding='latin-1', key = 'ltable_id')\n",
        "R_data = em.read_csv_metadata('./rtable.csv',encoding='latin-1', key = 'rtable_id')\n"
      ],
      "execution_count": 33,
      "outputs": [
        {
          "output_type": "stream",
          "text": [
            "Metadata file is not present in the given path; proceeding to read the csv file.\n",
            "Metadata file is not present in the given path; proceeding to read the csv file.\n"
          ],
          "name": "stderr"
        }
      ]
    },
    {
      "metadata": {
        "id": "WFKjAhHcniSv",
        "colab_type": "code",
        "colab": {
          "base_uri": "https://localhost:8080/",
          "height": 204
        },
        "outputId": "7a21b74b-1cfa-408f-ff60-eb906822b0ca"
      },
      "cell_type": "code",
      "source": [
        "L_data.head()"
      ],
      "execution_count": 34,
      "outputs": [
        {
          "output_type": "execute_result",
          "data": {
            "text/html": [
              "<div>\n",
              "<style scoped>\n",
              "    .dataframe tbody tr th:only-of-type {\n",
              "        vertical-align: middle;\n",
              "    }\n",
              "\n",
              "    .dataframe tbody tr th {\n",
              "        vertical-align: top;\n",
              "    }\n",
              "\n",
              "    .dataframe thead th {\n",
              "        text-align: right;\n",
              "    }\n",
              "</style>\n",
              "<table border=\"1\" class=\"dataframe\">\n",
              "  <thead>\n",
              "    <tr style=\"text-align: right;\">\n",
              "      <th></th>\n",
              "      <th>ltable_id</th>\n",
              "      <th>title</th>\n",
              "      <th>category</th>\n",
              "      <th>brand</th>\n",
              "      <th>modelno</th>\n",
              "      <th>price</th>\n",
              "    </tr>\n",
              "  </thead>\n",
              "  <tbody>\n",
              "    <tr>\n",
              "      <th>0</th>\n",
              "      <td>0</td>\n",
              "      <td>draper infrared remote transmitter</td>\n",
              "      <td>electronics - general</td>\n",
              "      <td>draper</td>\n",
              "      <td>121066</td>\n",
              "      <td>58.45</td>\n",
              "    </tr>\n",
              "    <tr>\n",
              "      <th>1</th>\n",
              "      <td>1</td>\n",
              "      <td>epson 1500 hours 200w uhe projector lamp elplp12</td>\n",
              "      <td>monitors</td>\n",
              "      <td>epson</td>\n",
              "      <td>elplp12</td>\n",
              "      <td>438.84</td>\n",
              "    </tr>\n",
              "    <tr>\n",
              "      <th>2</th>\n",
              "      <td>2</td>\n",
              "      <td>comprehensive two-piece 75 precision bnc jack for rg-59 set of 25</td>\n",
              "      <td>tv accessories</td>\n",
              "      <td>comprehensive</td>\n",
              "      <td>bj-2c7559</td>\n",
              "      <td>59.25</td>\n",
              "    </tr>\n",
              "    <tr>\n",
              "      <th>3</th>\n",
              "      <td>3</td>\n",
              "      <td>d-link dcs-1100 network camera</td>\n",
              "      <td>garden - general</td>\n",
              "      <td>d-link</td>\n",
              "      <td>dcs-1100</td>\n",
              "      <td>99.82</td>\n",
              "    </tr>\n",
              "    <tr>\n",
              "      <th>4</th>\n",
              "      <td>4</td>\n",
              "      <td>startech.com rkpw247015 24 outlet power strip</td>\n",
              "      <td>electronics - general</td>\n",
              "      <td>startech</td>\n",
              "      <td>rkpw247015</td>\n",
              "      <td>59.00</td>\n",
              "    </tr>\n",
              "  </tbody>\n",
              "</table>\n",
              "</div>"
            ],
            "text/plain": [
              "   ltable_id  \\\n",
              "0          0   \n",
              "1          1   \n",
              "2          2   \n",
              "3          3   \n",
              "4          4   \n",
              "\n",
              "                                                               title  \\\n",
              "0                                 draper infrared remote transmitter   \n",
              "1                   epson 1500 hours 200w uhe projector lamp elplp12   \n",
              "2  comprehensive two-piece 75 precision bnc jack for rg-59 set of 25   \n",
              "3                                     d-link dcs-1100 network camera   \n",
              "4                      startech.com rkpw247015 24 outlet power strip   \n",
              "\n",
              "                category          brand     modelno   price  \n",
              "0  electronics - general         draper      121066   58.45  \n",
              "1               monitors          epson     elplp12  438.84  \n",
              "2         tv accessories  comprehensive   bj-2c7559   59.25  \n",
              "3       garden - general         d-link    dcs-1100   99.82  \n",
              "4  electronics - general       startech  rkpw247015   59.00  "
            ]
          },
          "metadata": {
            "tags": []
          },
          "execution_count": 34
        }
      ]
    },
    {
      "metadata": {
        "id": "MzF77bbjo7WM",
        "colab_type": "code",
        "colab": {
          "base_uri": "https://localhost:8080/",
          "height": 204
        },
        "outputId": "63e62d9e-5814-4e7f-873d-5b928d13cef1"
      },
      "cell_type": "code",
      "source": [
        "R_data.head()"
      ],
      "execution_count": 35,
      "outputs": [
        {
          "output_type": "execute_result",
          "data": {
            "text/html": [
              "<div>\n",
              "<style scoped>\n",
              "    .dataframe tbody tr th:only-of-type {\n",
              "        vertical-align: middle;\n",
              "    }\n",
              "\n",
              "    .dataframe tbody tr th {\n",
              "        vertical-align: top;\n",
              "    }\n",
              "\n",
              "    .dataframe thead th {\n",
              "        text-align: right;\n",
              "    }\n",
              "</style>\n",
              "<table border=\"1\" class=\"dataframe\">\n",
              "  <thead>\n",
              "    <tr style=\"text-align: right;\">\n",
              "      <th></th>\n",
              "      <th>rtable_id</th>\n",
              "      <th>title</th>\n",
              "      <th>category</th>\n",
              "      <th>brand</th>\n",
              "      <th>modelno</th>\n",
              "      <th>price</th>\n",
              "    </tr>\n",
              "  </thead>\n",
              "  <tbody>\n",
              "    <tr>\n",
              "      <th>0</th>\n",
              "      <td>0</td>\n",
              "      <td>koss eq50 3-band stereo equalizer</td>\n",
              "      <td>headphone accessories</td>\n",
              "      <td>koss</td>\n",
              "      <td>152132</td>\n",
              "      <td>12.65</td>\n",
              "    </tr>\n",
              "    <tr>\n",
              "      <th>1</th>\n",
              "      <td>1</td>\n",
              "      <td>kodak black ink cartridge 10b 1163641</td>\n",
              "      <td>inkjet printer ink</td>\n",
              "      <td>kodak</td>\n",
              "      <td>1163641</td>\n",
              "      <td>10.28</td>\n",
              "    </tr>\n",
              "    <tr>\n",
              "      <th>2</th>\n",
              "      <td>2</td>\n",
              "      <td>kingston 128mx64 pc2700 compaq evo d320 ktc-d320 1g</td>\n",
              "      <td>computers accessories</td>\n",
              "      <td>kingston</td>\n",
              "      <td>ktc-d320 / 1g</td>\n",
              "      <td>33.75</td>\n",
              "    </tr>\n",
              "    <tr>\n",
              "      <th>3</th>\n",
              "      <td>3</td>\n",
              "      <td>kinamax ms-ues2 mini high precision usb 3-button 3d optical scroll wheel mouse with retractable ...</td>\n",
              "      <td>mice</td>\n",
              "      <td>kinamax</td>\n",
              "      <td>ms-ues2</td>\n",
              "      <td>6.99</td>\n",
              "    </tr>\n",
              "    <tr>\n",
              "      <th>4</th>\n",
              "      <td>4</td>\n",
              "      <td>kensington k72349us wireless mouse for netbooks</td>\n",
              "      <td>mice</td>\n",
              "      <td>kensington</td>\n",
              "      <td>k72349us</td>\n",
              "      <td>24.00</td>\n",
              "    </tr>\n",
              "  </tbody>\n",
              "</table>\n",
              "</div>"
            ],
            "text/plain": [
              "   rtable_id  \\\n",
              "0          0   \n",
              "1          1   \n",
              "2          2   \n",
              "3          3   \n",
              "4          4   \n",
              "\n",
              "                                                                                                 title  \\\n",
              "0                                                                    koss eq50 3-band stereo equalizer   \n",
              "1                                                                kodak black ink cartridge 10b 1163641   \n",
              "2                                                  kingston 128mx64 pc2700 compaq evo d320 ktc-d320 1g   \n",
              "3  kinamax ms-ues2 mini high precision usb 3-button 3d optical scroll wheel mouse with retractable ...   \n",
              "4                                                      kensington k72349us wireless mouse for netbooks   \n",
              "\n",
              "                category       brand        modelno  price  \n",
              "0  headphone accessories        koss         152132  12.65  \n",
              "1     inkjet printer ink       kodak        1163641  10.28  \n",
              "2  computers accessories    kingston  ktc-d320 / 1g  33.75  \n",
              "3                   mice     kinamax        ms-ues2   6.99  \n",
              "4                   mice  kensington       k72349us  24.00  "
            ]
          },
          "metadata": {
            "tags": []
          },
          "execution_count": 35
        }
      ]
    },
    {
      "metadata": {
        "id": "FhsqGJRto-1a",
        "colab_type": "code",
        "colab": {}
      },
      "cell_type": "code",
      "source": [
        "# Instantiate overlap blocker object\n",
        "ob = em.OverlapBlocker()"
      ],
      "execution_count": 0,
      "outputs": []
    },
    {
      "metadata": {
        "id": "PcL1skAcpDP3",
        "colab_type": "code",
        "colab": {
          "base_uri": "https://localhost:8080/",
          "height": 105
        },
        "outputId": "7771ba8d-dbf3-4591-cad0-f98ccc6e1347"
      },
      "cell_type": "code",
      "source": [
        "# Specify the tokenization to be 'word' level and set overlap_size to be 3.\n",
        "C = ob.block_tables(L_data, R_data, 'brand', 'brand', word_level=False, \n",
        "                    l_output_attrs=['ltable_id', 'title', 'category', 'price'], \n",
        "                    r_output_attrs=['rtable_id', 'title', 'category', 'price'],\n",
        "                    q_val = 3, overlap_size=3, show_progress=False)"
      ],
      "execution_count": 38,
      "outputs": [
        {
          "output_type": "stream",
          "text": [
            "/usr/local/lib/python3.6/dist-packages/pandas/core/generic.py:5079: FutureWarning: Attribute 'is_copy' is deprecated and will be removed in a future version.\n",
            "  object.__getattribute__(self, name)\n",
            "/usr/local/lib/python3.6/dist-packages/pandas/core/generic.py:5080: FutureWarning: Attribute 'is_copy' is deprecated and will be removed in a future version.\n",
            "  return object.__setattr__(self, name, value)\n"
          ],
          "name": "stderr"
        }
      ]
    },
    {
      "metadata": {
        "id": "PuSE7BGZp6IM",
        "colab_type": "code",
        "colab": {
          "base_uri": "https://localhost:8080/",
          "height": 391
        },
        "outputId": "331e9a1a-a5cb-4027-874b-35650eadb65b"
      },
      "cell_type": "code",
      "source": [
        "C.head()"
      ],
      "execution_count": 39,
      "outputs": [
        {
          "output_type": "execute_result",
          "data": {
            "text/html": [
              "<div>\n",
              "<style scoped>\n",
              "    .dataframe tbody tr th:only-of-type {\n",
              "        vertical-align: middle;\n",
              "    }\n",
              "\n",
              "    .dataframe tbody tr th {\n",
              "        vertical-align: top;\n",
              "    }\n",
              "\n",
              "    .dataframe thead th {\n",
              "        text-align: right;\n",
              "    }\n",
              "</style>\n",
              "<table border=\"1\" class=\"dataframe\">\n",
              "  <thead>\n",
              "    <tr style=\"text-align: right;\">\n",
              "      <th></th>\n",
              "      <th>_id</th>\n",
              "      <th>ltable_ltable_id</th>\n",
              "      <th>rtable_rtable_id</th>\n",
              "      <th>ltable_title</th>\n",
              "      <th>ltable_category</th>\n",
              "      <th>ltable_price</th>\n",
              "      <th>rtable_title</th>\n",
              "      <th>rtable_category</th>\n",
              "      <th>rtable_price</th>\n",
              "    </tr>\n",
              "  </thead>\n",
              "  <tbody>\n",
              "    <tr>\n",
              "      <th>0</th>\n",
              "      <td>0</td>\n",
              "      <td>105</td>\n",
              "      <td>0</td>\n",
              "      <td>koss stereophones with flexible headband design</td>\n",
              "      <td>electronics - general</td>\n",
              "      <td>29.88</td>\n",
              "      <td>koss eq50 3-band stereo equalizer</td>\n",
              "      <td>headphone accessories</td>\n",
              "      <td>12.65</td>\n",
              "    </tr>\n",
              "    <tr>\n",
              "      <th>1</th>\n",
              "      <td>1</td>\n",
              "      <td>202</td>\n",
              "      <td>0</td>\n",
              "      <td>boss mp3 cd receiver speaker package system</td>\n",
              "      <td>car stereos</td>\n",
              "      <td>78.00</td>\n",
              "      <td>koss eq50 3-band stereo equalizer</td>\n",
              "      <td>headphone accessories</td>\n",
              "      <td>12.65</td>\n",
              "    </tr>\n",
              "    <tr>\n",
              "      <th>2</th>\n",
              "      <td>2</td>\n",
              "      <td>306</td>\n",
              "      <td>0</td>\n",
              "      <td>boss audio ch6ck - chaos extreme 350 watt 6.5 component car speakers - pair</td>\n",
              "      <td>car stereos</td>\n",
              "      <td>43.00</td>\n",
              "      <td>koss eq50 3-band stereo equalizer</td>\n",
              "      <td>headphone accessories</td>\n",
              "      <td>12.65</td>\n",
              "    </tr>\n",
              "    <tr>\n",
              "      <th>3</th>\n",
              "      <td>3</td>\n",
              "      <td>493</td>\n",
              "      <td>0</td>\n",
              "      <td>cross contour ballpoint pen satin barrel medium point</td>\n",
              "      <td>stationery &amp; office machinery</td>\n",
              "      <td>20.94</td>\n",
              "      <td>koss eq50 3-band stereo equalizer</td>\n",
              "      <td>headphone accessories</td>\n",
              "      <td>12.65</td>\n",
              "    </tr>\n",
              "    <tr>\n",
              "      <th>4</th>\n",
              "      <td>4</td>\n",
              "      <td>798</td>\n",
              "      <td>0</td>\n",
              "      <td>boss audio 586ck - 1-din cd receiver with two 6.5 speakers</td>\n",
              "      <td>car stereos</td>\n",
              "      <td>98.00</td>\n",
              "      <td>koss eq50 3-band stereo equalizer</td>\n",
              "      <td>headphone accessories</td>\n",
              "      <td>12.65</td>\n",
              "    </tr>\n",
              "  </tbody>\n",
              "</table>\n",
              "</div>"
            ],
            "text/plain": [
              "   _id  ltable_ltable_id  rtable_rtable_id  \\\n",
              "0    0               105                 0   \n",
              "1    1               202                 0   \n",
              "2    2               306                 0   \n",
              "3    3               493                 0   \n",
              "4    4               798                 0   \n",
              "\n",
              "                                                                  ltable_title  \\\n",
              "0                              koss stereophones with flexible headband design   \n",
              "1                                  boss mp3 cd receiver speaker package system   \n",
              "2  boss audio ch6ck - chaos extreme 350 watt 6.5 component car speakers - pair   \n",
              "3                        cross contour ballpoint pen satin barrel medium point   \n",
              "4                   boss audio 586ck - 1-din cd receiver with two 6.5 speakers   \n",
              "\n",
              "                 ltable_category  ltable_price  \\\n",
              "0          electronics - general         29.88   \n",
              "1                    car stereos         78.00   \n",
              "2                    car stereos         43.00   \n",
              "3  stationery & office machinery         20.94   \n",
              "4                    car stereos         98.00   \n",
              "\n",
              "                        rtable_title        rtable_category  rtable_price  \n",
              "0  koss eq50 3-band stereo equalizer  headphone accessories         12.65  \n",
              "1  koss eq50 3-band stereo equalizer  headphone accessories         12.65  \n",
              "2  koss eq50 3-band stereo equalizer  headphone accessories         12.65  \n",
              "3  koss eq50 3-band stereo equalizer  headphone accessories         12.65  \n",
              "4  koss eq50 3-band stereo equalizer  headphone accessories         12.65  "
            ]
          },
          "metadata": {
            "tags": []
          },
          "execution_count": 39
        }
      ]
    },
    {
      "metadata": {
        "id": "MbeFCUX_vEf_",
        "colab_type": "code",
        "colab": {}
      },
      "cell_type": "code",
      "source": [
        "#generate training data\n",
        "import csv\n",
        "with open('./train_labled', 'w') as labeled:\n",
        "  labeled_writer = csv.writer(labeled, delimiter=',', quotechar='\"', quoting=csv.QUOTE_MINIMAL)\n",
        "  for pair in train.iterrows():\n",
        "    l_id = pair[1][0]\n",
        "    r_id = pair[1][1]\n",
        "\n",
        "    l_data = L_data.loc[L_data['ltable_id'] == l_id]\n",
        "    r_data = R_data.loc[R_data['rtable_id'] == r_id]\n",
        "    label = pair[1]['label']\n",
        "    \n",
        "    labeled_writer.writerow(l_data+r_data+label);\n",
        "  "
      ],
      "execution_count": 0,
      "outputs": []
    },
    {
      "metadata": {
        "id": "MiykcAbn1lod",
        "colab_type": "code",
        "colab": {}
      },
      "cell_type": "code",
      "source": [
        "mv train_labled train_labled.csv"
      ],
      "execution_count": 0,
      "outputs": []
    },
    {
      "metadata": {
        "id": "SsCklKqKykGZ",
        "colab_type": "code",
        "colab": {
          "base_uri": "https://localhost:8080/",
          "height": 34
        },
        "outputId": "70faa9e6-2654-4ee0-8a44-9c40a2667bcf"
      },
      "cell_type": "code",
      "source": [
        "S = em.read_csv_metadata('train.csv', \n",
        "                         key='id',\n",
        "                         ltable=L_data, rtable=R_data, \n",
        "                         fk_ltable='ltable_id', fk_rtable='rtable_id')"
      ],
      "execution_count": 72,
      "outputs": [
        {
          "output_type": "stream",
          "text": [
            "Metadata file is not present in the given path; proceeding to read the csv file.\n"
          ],
          "name": "stderr"
        }
      ]
    },
    {
      "metadata": {
        "id": "aHU6k25c1iCU",
        "colab_type": "code",
        "colab": {
          "base_uri": "https://localhost:8080/",
          "height": 204
        },
        "outputId": "ba319f38-80af-4889-f7e8-f66e963c24e7"
      },
      "cell_type": "code",
      "source": [
        "S.head()"
      ],
      "execution_count": 122,
      "outputs": [
        {
          "output_type": "execute_result",
          "data": {
            "text/html": [
              "<div>\n",
              "<style scoped>\n",
              "    .dataframe tbody tr th:only-of-type {\n",
              "        vertical-align: middle;\n",
              "    }\n",
              "\n",
              "    .dataframe tbody tr th {\n",
              "        vertical-align: top;\n",
              "    }\n",
              "\n",
              "    .dataframe thead th {\n",
              "        text-align: right;\n",
              "    }\n",
              "</style>\n",
              "<table border=\"1\" class=\"dataframe\">\n",
              "  <thead>\n",
              "    <tr style=\"text-align: right;\">\n",
              "      <th></th>\n",
              "      <th>ltable_id</th>\n",
              "      <th>rtable_id</th>\n",
              "      <th>label</th>\n",
              "      <th>id</th>\n",
              "    </tr>\n",
              "  </thead>\n",
              "  <tbody>\n",
              "    <tr>\n",
              "      <th>0</th>\n",
              "      <td>621</td>\n",
              "      <td>3167</td>\n",
              "      <td>0</td>\n",
              "      <td>1</td>\n",
              "    </tr>\n",
              "    <tr>\n",
              "      <th>1</th>\n",
              "      <td>2115</td>\n",
              "      <td>8789</td>\n",
              "      <td>0</td>\n",
              "      <td>2</td>\n",
              "    </tr>\n",
              "    <tr>\n",
              "      <th>2</th>\n",
              "      <td>278</td>\n",
              "      <td>9064</td>\n",
              "      <td>0</td>\n",
              "      <td>3</td>\n",
              "    </tr>\n",
              "    <tr>\n",
              "      <th>3</th>\n",
              "      <td>1673</td>\n",
              "      <td>13279</td>\n",
              "      <td>0</td>\n",
              "      <td>4</td>\n",
              "    </tr>\n",
              "    <tr>\n",
              "      <th>4</th>\n",
              "      <td>2305</td>\n",
              "      <td>2948</td>\n",
              "      <td>0</td>\n",
              "      <td>5</td>\n",
              "    </tr>\n",
              "  </tbody>\n",
              "</table>\n",
              "</div>"
            ],
            "text/plain": [
              "   ltable_id  rtable_id  label  id\n",
              "0        621       3167      0   1\n",
              "1       2115       8789      0   2\n",
              "2        278       9064      0   3\n",
              "3       1673      13279      0   4\n",
              "4       2305       2948      0   5"
            ]
          },
          "metadata": {
            "tags": []
          },
          "execution_count": 122
        }
      ]
    },
    {
      "metadata": {
        "id": "rt7Eh7ni209B",
        "colab_type": "code",
        "colab": {}
      },
      "cell_type": "code",
      "source": [
        "# Create a set of ML-matchers\n",
        "dt = em.DTMatcher(name='DecisionTree', random_state=0)\n",
        "svm = em.SVMMatcher(name='SVM', random_state=0)\n",
        "rf = em.RFMatcher(name='RF', random_state=0)\n",
        "lg = em.LogRegMatcher(name='LogReg', random_state=0)\n",
        "ln = em.LinRegMatcher(name='LinReg')"
      ],
      "execution_count": 0,
      "outputs": []
    },
    {
      "metadata": {
        "id": "ywm1TKks3DVI",
        "colab_type": "code",
        "colab": {}
      },
      "cell_type": "code",
      "source": [
        "# Generate a set of features\n",
        "F = em.get_features_for_matching(L_data, R_data, validate_inferred_attr_types=False)"
      ],
      "execution_count": 0,
      "outputs": []
    },
    {
      "metadata": {
        "id": "Yh2G_EuP3H_J",
        "colab_type": "code",
        "colab": {
          "base_uri": "https://localhost:8080/",
          "height": 510
        },
        "outputId": "8138e142-4a3b-4563-d78d-48804b1b62d4"
      },
      "cell_type": "code",
      "source": [
        "F.feature_name\n"
      ],
      "execution_count": 125,
      "outputs": [
        {
          "output_type": "execute_result",
          "data": {
            "text/plain": [
              "0         category_category_jac_qgm_3_qgm_3\n",
              "1     category_category_cos_dlm_dc0_dlm_dc0\n",
              "2     category_category_jac_dlm_dc0_dlm_dc0\n",
              "3                     category_category_mel\n",
              "4                category_category_lev_dist\n",
              "5                 category_category_lev_sim\n",
              "6                     category_category_nmw\n",
              "7                      category_category_sw\n",
              "8               brand_brand_jac_qgm_3_qgm_3\n",
              "9           brand_brand_cos_dlm_dc0_dlm_dc0\n",
              "10          brand_brand_jac_dlm_dc0_dlm_dc0\n",
              "11                          brand_brand_mel\n",
              "12                     brand_brand_lev_dist\n",
              "13                      brand_brand_lev_sim\n",
              "14                          brand_brand_nmw\n",
              "15                           brand_brand_sw\n",
              "16          modelno_modelno_jac_qgm_3_qgm_3\n",
              "17      modelno_modelno_cos_dlm_dc0_dlm_dc0\n",
              "18      modelno_modelno_jac_dlm_dc0_dlm_dc0\n",
              "19                      modelno_modelno_mel\n",
              "20                 modelno_modelno_lev_dist\n",
              "21                  modelno_modelno_lev_sim\n",
              "22                      modelno_modelno_nmw\n",
              "23                       modelno_modelno_sw\n",
              "24                          price_price_exm\n",
              "25                          price_price_anm\n",
              "26                     price_price_lev_dist\n",
              "27                      price_price_lev_sim\n",
              "Name: feature_name, dtype: object"
            ]
          },
          "metadata": {
            "tags": []
          },
          "execution_count": 125
        }
      ]
    },
    {
      "metadata": {
        "id": "SyfRkFz_3Jvd",
        "colab_type": "code",
        "colab": {}
      },
      "cell_type": "code",
      "source": [
        "H = em.extract_feature_vecs(S, \n",
        "                            feature_table=F, \n",
        "                            attrs_after='label',\n",
        "                            show_progress=False)"
      ],
      "execution_count": 0,
      "outputs": []
    },
    {
      "metadata": {
        "id": "-UNeVNY14ill",
        "colab_type": "code",
        "colab": {
          "base_uri": "https://localhost:8080/",
          "height": 253
        },
        "outputId": "cee4a3b8-929e-44e2-b07b-ad94d1484fa4"
      },
      "cell_type": "code",
      "source": [
        "H.head()"
      ],
      "execution_count": 127,
      "outputs": [
        {
          "output_type": "execute_result",
          "data": {
            "text/html": [
              "<div>\n",
              "<style scoped>\n",
              "    .dataframe tbody tr th:only-of-type {\n",
              "        vertical-align: middle;\n",
              "    }\n",
              "\n",
              "    .dataframe tbody tr th {\n",
              "        vertical-align: top;\n",
              "    }\n",
              "\n",
              "    .dataframe thead th {\n",
              "        text-align: right;\n",
              "    }\n",
              "</style>\n",
              "<table border=\"1\" class=\"dataframe\">\n",
              "  <thead>\n",
              "    <tr style=\"text-align: right;\">\n",
              "      <th></th>\n",
              "      <th>id</th>\n",
              "      <th>ltable_id</th>\n",
              "      <th>rtable_id</th>\n",
              "      <th>category_category_jac_qgm_3_qgm_3</th>\n",
              "      <th>category_category_cos_dlm_dc0_dlm_dc0</th>\n",
              "      <th>category_category_jac_dlm_dc0_dlm_dc0</th>\n",
              "      <th>category_category_mel</th>\n",
              "      <th>category_category_lev_dist</th>\n",
              "      <th>category_category_lev_sim</th>\n",
              "      <th>category_category_nmw</th>\n",
              "      <th>...</th>\n",
              "      <th>modelno_modelno_mel</th>\n",
              "      <th>modelno_modelno_lev_dist</th>\n",
              "      <th>modelno_modelno_lev_sim</th>\n",
              "      <th>modelno_modelno_nmw</th>\n",
              "      <th>modelno_modelno_sw</th>\n",
              "      <th>price_price_exm</th>\n",
              "      <th>price_price_anm</th>\n",
              "      <th>price_price_lev_dist</th>\n",
              "      <th>price_price_lev_sim</th>\n",
              "      <th>label</th>\n",
              "    </tr>\n",
              "  </thead>\n",
              "  <tbody>\n",
              "    <tr>\n",
              "      <th>0</th>\n",
              "      <td>1</td>\n",
              "      <td>621</td>\n",
              "      <td>3167</td>\n",
              "      <td>0.054054</td>\n",
              "      <td>0.000000</td>\n",
              "      <td>0.000000</td>\n",
              "      <td>0.484127</td>\n",
              "      <td>16.0</td>\n",
              "      <td>0.238095</td>\n",
              "      <td>-2.0</td>\n",
              "      <td>...</td>\n",
              "      <td>0.457936</td>\n",
              "      <td>12.0</td>\n",
              "      <td>0.142857</td>\n",
              "      <td>0.0</td>\n",
              "      <td>2.0</td>\n",
              "      <td>0.0</td>\n",
              "      <td>0.741408</td>\n",
              "      <td>3.0</td>\n",
              "      <td>0.500000</td>\n",
              "      <td>0</td>\n",
              "    </tr>\n",
              "    <tr>\n",
              "      <th>1</th>\n",
              "      <td>2</td>\n",
              "      <td>2115</td>\n",
              "      <td>8789</td>\n",
              "      <td>0.000000</td>\n",
              "      <td>0.000000</td>\n",
              "      <td>0.000000</td>\n",
              "      <td>0.577249</td>\n",
              "      <td>17.0</td>\n",
              "      <td>0.190476</td>\n",
              "      <td>1.0</td>\n",
              "      <td>...</td>\n",
              "      <td>NaN</td>\n",
              "      <td>NaN</td>\n",
              "      <td>NaN</td>\n",
              "      <td>NaN</td>\n",
              "      <td>NaN</td>\n",
              "      <td>0.0</td>\n",
              "      <td>0.412166</td>\n",
              "      <td>4.0</td>\n",
              "      <td>0.333333</td>\n",
              "      <td>0</td>\n",
              "    </tr>\n",
              "    <tr>\n",
              "      <th>2</th>\n",
              "      <td>3</td>\n",
              "      <td>278</td>\n",
              "      <td>9064</td>\n",
              "      <td>0.023810</td>\n",
              "      <td>0.000000</td>\n",
              "      <td>0.000000</td>\n",
              "      <td>0.671958</td>\n",
              "      <td>15.0</td>\n",
              "      <td>0.285714</td>\n",
              "      <td>1.0</td>\n",
              "      <td>...</td>\n",
              "      <td>NaN</td>\n",
              "      <td>NaN</td>\n",
              "      <td>NaN</td>\n",
              "      <td>NaN</td>\n",
              "      <td>NaN</td>\n",
              "      <td>NaN</td>\n",
              "      <td>NaN</td>\n",
              "      <td>NaN</td>\n",
              "      <td>NaN</td>\n",
              "      <td>0</td>\n",
              "    </tr>\n",
              "    <tr>\n",
              "      <th>3</th>\n",
              "      <td>4</td>\n",
              "      <td>1673</td>\n",
              "      <td>13279</td>\n",
              "      <td>0.578947</td>\n",
              "      <td>0.816497</td>\n",
              "      <td>0.666667</td>\n",
              "      <td>0.865000</td>\n",
              "      <td>6.0</td>\n",
              "      <td>0.625000</td>\n",
              "      <td>4.0</td>\n",
              "      <td>...</td>\n",
              "      <td>NaN</td>\n",
              "      <td>NaN</td>\n",
              "      <td>NaN</td>\n",
              "      <td>NaN</td>\n",
              "      <td>NaN</td>\n",
              "      <td>0.0</td>\n",
              "      <td>0.916528</td>\n",
              "      <td>1.0</td>\n",
              "      <td>0.800000</td>\n",
              "      <td>0</td>\n",
              "    </tr>\n",
              "    <tr>\n",
              "      <th>4</th>\n",
              "      <td>5</td>\n",
              "      <td>2305</td>\n",
              "      <td>2948</td>\n",
              "      <td>0.058824</td>\n",
              "      <td>0.000000</td>\n",
              "      <td>0.000000</td>\n",
              "      <td>0.430880</td>\n",
              "      <td>16.0</td>\n",
              "      <td>0.238095</td>\n",
              "      <td>-6.0</td>\n",
              "      <td>...</td>\n",
              "      <td>0.447619</td>\n",
              "      <td>6.0</td>\n",
              "      <td>0.142857</td>\n",
              "      <td>-1.0</td>\n",
              "      <td>1.0</td>\n",
              "      <td>0.0</td>\n",
              "      <td>0.899354</td>\n",
              "      <td>3.0</td>\n",
              "      <td>0.400000</td>\n",
              "      <td>0</td>\n",
              "    </tr>\n",
              "  </tbody>\n",
              "</table>\n",
              "<p>5 rows × 32 columns</p>\n",
              "</div>"
            ],
            "text/plain": [
              "   id  ltable_id  rtable_id  category_category_jac_qgm_3_qgm_3  \\\n",
              "0   1        621       3167                           0.054054   \n",
              "1   2       2115       8789                           0.000000   \n",
              "2   3        278       9064                           0.023810   \n",
              "3   4       1673      13279                           0.578947   \n",
              "4   5       2305       2948                           0.058824   \n",
              "\n",
              "   category_category_cos_dlm_dc0_dlm_dc0  \\\n",
              "0                               0.000000   \n",
              "1                               0.000000   \n",
              "2                               0.000000   \n",
              "3                               0.816497   \n",
              "4                               0.000000   \n",
              "\n",
              "   category_category_jac_dlm_dc0_dlm_dc0  category_category_mel  \\\n",
              "0                               0.000000               0.484127   \n",
              "1                               0.000000               0.577249   \n",
              "2                               0.000000               0.671958   \n",
              "3                               0.666667               0.865000   \n",
              "4                               0.000000               0.430880   \n",
              "\n",
              "   category_category_lev_dist  category_category_lev_sim  \\\n",
              "0                        16.0                   0.238095   \n",
              "1                        17.0                   0.190476   \n",
              "2                        15.0                   0.285714   \n",
              "3                         6.0                   0.625000   \n",
              "4                        16.0                   0.238095   \n",
              "\n",
              "   category_category_nmw  ...  modelno_modelno_mel  modelno_modelno_lev_dist  \\\n",
              "0                   -2.0  ...             0.457936                      12.0   \n",
              "1                    1.0  ...                  NaN                       NaN   \n",
              "2                    1.0  ...                  NaN                       NaN   \n",
              "3                    4.0  ...                  NaN                       NaN   \n",
              "4                   -6.0  ...             0.447619                       6.0   \n",
              "\n",
              "   modelno_modelno_lev_sim  modelno_modelno_nmw  modelno_modelno_sw  \\\n",
              "0                 0.142857                  0.0                 2.0   \n",
              "1                      NaN                  NaN                 NaN   \n",
              "2                      NaN                  NaN                 NaN   \n",
              "3                      NaN                  NaN                 NaN   \n",
              "4                 0.142857                 -1.0                 1.0   \n",
              "\n",
              "   price_price_exm  price_price_anm  price_price_lev_dist  \\\n",
              "0              0.0         0.741408                   3.0   \n",
              "1              0.0         0.412166                   4.0   \n",
              "2              NaN              NaN                   NaN   \n",
              "3              0.0         0.916528                   1.0   \n",
              "4              0.0         0.899354                   3.0   \n",
              "\n",
              "   price_price_lev_sim  label  \n",
              "0             0.500000      0  \n",
              "1             0.333333      0  \n",
              "2                  NaN      0  \n",
              "3             0.800000      0  \n",
              "4             0.400000      0  \n",
              "\n",
              "[5 rows x 32 columns]"
            ]
          },
          "metadata": {
            "tags": []
          },
          "execution_count": 127
        }
      ]
    },
    {
      "metadata": {
        "id": "Xd9PMZbN3PXz",
        "colab_type": "code",
        "colab": {
          "base_uri": "https://localhost:8080/",
          "height": 34
        },
        "outputId": "585056cd-4f8e-496b-9656-c6add97acce2"
      },
      "cell_type": "code",
      "source": [
        "any(pd.notnull(H))"
      ],
      "execution_count": 128,
      "outputs": [
        {
          "output_type": "execute_result",
          "data": {
            "text/plain": [
              "True"
            ]
          },
          "metadata": {
            "tags": []
          },
          "execution_count": 128
        }
      ]
    },
    {
      "metadata": {
        "id": "L-zeppBh3o-W",
        "colab_type": "code",
        "colab": {
          "base_uri": "https://localhost:8080/",
          "height": 71
        },
        "outputId": "1d0e2f95-d980-4844-c78e-24f6349afef8"
      },
      "cell_type": "code",
      "source": [
        "# Impute feature vectors with the mean of the column values.\n",
        "H = em.impute_table(H, \n",
        "                exclude_attrs=['id', 'ltable_id', 'rtable_id', 'label'],\n",
        "                strategy='mean')"
      ],
      "execution_count": 129,
      "outputs": [
        {
          "output_type": "stream",
          "text": [
            "/usr/local/lib/python3.6/dist-packages/sklearn/utils/deprecation.py:58: DeprecationWarning: Class Imputer is deprecated; Imputer was deprecated in version 0.20 and will be removed in 0.22. Import impute.SimpleImputer from sklearn instead.\n",
            "  warnings.warn(msg, category=DeprecationWarning)\n"
          ],
          "name": "stderr"
        }
      ]
    },
    {
      "metadata": {
        "id": "-mlyk1x23seH",
        "colab_type": "code",
        "colab": {
          "base_uri": "https://localhost:8080/",
          "height": 258
        },
        "outputId": "e7481abd-ee8d-4e28-d9be-1e39a01995b8"
      },
      "cell_type": "code",
      "source": [
        "# Select the best ML matcher using CV\n",
        "result = em.select_matcher([dt, rf, svm, ln, lg], table=H, \n",
        "        exclude_attrs=['id', 'ltable_id', 'rtable_id', 'label'],\n",
        "        k=5,\n",
        "        target_attr='label', metric_to_select_matcher='f1', random_state=0)\n",
        "result['cv_stats']"
      ],
      "execution_count": 130,
      "outputs": [
        {
          "output_type": "stream",
          "text": [
            "/usr/local/lib/python3.6/dist-packages/sklearn/externals/joblib/externals/loky/process_executor.py:706: UserWarning: A worker stopped while some jobs were given to the executor. This can be caused by a too short worker timeout or by a memory leak.\n",
            "  \"timeout or by a memory leak.\", UserWarning\n"
          ],
          "name": "stderr"
        },
        {
          "output_type": "execute_result",
          "data": {
            "text/html": [
              "<div>\n",
              "<style scoped>\n",
              "    .dataframe tbody tr th:only-of-type {\n",
              "        vertical-align: middle;\n",
              "    }\n",
              "\n",
              "    .dataframe tbody tr th {\n",
              "        vertical-align: top;\n",
              "    }\n",
              "\n",
              "    .dataframe thead th {\n",
              "        text-align: right;\n",
              "    }\n",
              "</style>\n",
              "<table border=\"1\" class=\"dataframe\">\n",
              "  <thead>\n",
              "    <tr style=\"text-align: right;\">\n",
              "      <th></th>\n",
              "      <th>Matcher</th>\n",
              "      <th>Average precision</th>\n",
              "      <th>Average recall</th>\n",
              "      <th>Average f1</th>\n",
              "    </tr>\n",
              "  </thead>\n",
              "  <tbody>\n",
              "    <tr>\n",
              "      <th>0</th>\n",
              "      <td>DecisionTree</td>\n",
              "      <td>0.586133</td>\n",
              "      <td>0.561569</td>\n",
              "      <td>0.572245</td>\n",
              "    </tr>\n",
              "    <tr>\n",
              "      <th>1</th>\n",
              "      <td>RF</td>\n",
              "      <td>0.803232</td>\n",
              "      <td>0.487055</td>\n",
              "      <td>0.605659</td>\n",
              "    </tr>\n",
              "    <tr>\n",
              "      <th>2</th>\n",
              "      <td>SVM</td>\n",
              "      <td>0.904368</td>\n",
              "      <td>0.335341</td>\n",
              "      <td>0.489210</td>\n",
              "    </tr>\n",
              "    <tr>\n",
              "      <th>3</th>\n",
              "      <td>LinReg</td>\n",
              "      <td>0.972177</td>\n",
              "      <td>0.438797</td>\n",
              "      <td>0.603510</td>\n",
              "    </tr>\n",
              "    <tr>\n",
              "      <th>4</th>\n",
              "      <td>LogReg</td>\n",
              "      <td>0.943515</td>\n",
              "      <td>0.452186</td>\n",
              "      <td>0.609692</td>\n",
              "    </tr>\n",
              "  </tbody>\n",
              "</table>\n",
              "</div>"
            ],
            "text/plain": [
              "        Matcher  Average precision  Average recall  Average f1\n",
              "0  DecisionTree           0.586133        0.561569    0.572245\n",
              "1            RF           0.803232        0.487055    0.605659\n",
              "2           SVM           0.904368        0.335341    0.489210\n",
              "3        LinReg           0.972177        0.438797    0.603510\n",
              "4        LogReg           0.943515        0.452186    0.609692"
            ]
          },
          "metadata": {
            "tags": []
          },
          "execution_count": 130
        }
      ]
    },
    {
      "metadata": {
        "id": "QYRT3LC131Jv",
        "colab_type": "code",
        "colab": {
          "base_uri": "https://localhost:8080/",
          "height": 272
        },
        "outputId": "b4eaaa9e-1e97-4cfc-ff6d-1992279d3dd1"
      },
      "cell_type": "code",
      "source": [
        "result['drill_down_cv_stats']['precision']"
      ],
      "execution_count": 131,
      "outputs": [
        {
          "output_type": "execute_result",
          "data": {
            "text/html": [
              "<div>\n",
              "<style scoped>\n",
              "    .dataframe tbody tr th:only-of-type {\n",
              "        vertical-align: middle;\n",
              "    }\n",
              "\n",
              "    .dataframe tbody tr th {\n",
              "        vertical-align: top;\n",
              "    }\n",
              "\n",
              "    .dataframe thead th {\n",
              "        text-align: right;\n",
              "    }\n",
              "</style>\n",
              "<table border=\"1\" class=\"dataframe\">\n",
              "  <thead>\n",
              "    <tr style=\"text-align: right;\">\n",
              "      <th></th>\n",
              "      <th>Name</th>\n",
              "      <th>Matcher</th>\n",
              "      <th>Num folds</th>\n",
              "      <th>Fold 1</th>\n",
              "      <th>Fold 2</th>\n",
              "      <th>Fold 3</th>\n",
              "      <th>Fold 4</th>\n",
              "      <th>Fold 5</th>\n",
              "      <th>Mean score</th>\n",
              "    </tr>\n",
              "  </thead>\n",
              "  <tbody>\n",
              "    <tr>\n",
              "      <th>0</th>\n",
              "      <td>DecisionTree</td>\n",
              "      <td>&lt;py_entitymatching.matcher.dtmatcher.DTMatcher object at 0x7f1427dc92e8&gt;</td>\n",
              "      <td>5</td>\n",
              "      <td>0.631148</td>\n",
              "      <td>0.500000</td>\n",
              "      <td>0.600000</td>\n",
              "      <td>0.572650</td>\n",
              "      <td>0.626866</td>\n",
              "      <td>0.586133</td>\n",
              "    </tr>\n",
              "    <tr>\n",
              "      <th>1</th>\n",
              "      <td>RF</td>\n",
              "      <td>&lt;py_entitymatching.matcher.rfmatcher.RFMatcher object at 0x7f1427dc9c18&gt;</td>\n",
              "      <td>5</td>\n",
              "      <td>0.784810</td>\n",
              "      <td>0.752941</td>\n",
              "      <td>0.882353</td>\n",
              "      <td>0.808824</td>\n",
              "      <td>0.787234</td>\n",
              "      <td>0.803232</td>\n",
              "    </tr>\n",
              "    <tr>\n",
              "      <th>2</th>\n",
              "      <td>SVM</td>\n",
              "      <td>&lt;py_entitymatching.matcher.svmmatcher.SVMMatcher object at 0x7f1427dc9518&gt;</td>\n",
              "      <td>5</td>\n",
              "      <td>0.903846</td>\n",
              "      <td>0.895833</td>\n",
              "      <td>0.907407</td>\n",
              "      <td>0.909091</td>\n",
              "      <td>0.905660</td>\n",
              "      <td>0.904368</td>\n",
              "    </tr>\n",
              "    <tr>\n",
              "      <th>3</th>\n",
              "      <td>LinReg</td>\n",
              "      <td>&lt;py_entitymatching.matcher.linregmatcher.LinRegMatcher object at 0x7f1427dc93c8&gt;</td>\n",
              "      <td>5</td>\n",
              "      <td>0.982143</td>\n",
              "      <td>0.923077</td>\n",
              "      <td>0.970588</td>\n",
              "      <td>1.000000</td>\n",
              "      <td>0.985075</td>\n",
              "      <td>0.972177</td>\n",
              "    </tr>\n",
              "    <tr>\n",
              "      <th>4</th>\n",
              "      <td>LogReg</td>\n",
              "      <td>&lt;py_entitymatching.matcher.logregmatcher.LogRegMatcher object at 0x7f1427dc9f98&gt;</td>\n",
              "      <td>5</td>\n",
              "      <td>0.965517</td>\n",
              "      <td>0.887324</td>\n",
              "      <td>0.945946</td>\n",
              "      <td>0.962264</td>\n",
              "      <td>0.956522</td>\n",
              "      <td>0.943515</td>\n",
              "    </tr>\n",
              "  </tbody>\n",
              "</table>\n",
              "</div>"
            ],
            "text/plain": [
              "           Name  \\\n",
              "0  DecisionTree   \n",
              "1            RF   \n",
              "2           SVM   \n",
              "3        LinReg   \n",
              "4        LogReg   \n",
              "\n",
              "                                                                            Matcher  \\\n",
              "0          <py_entitymatching.matcher.dtmatcher.DTMatcher object at 0x7f1427dc92e8>   \n",
              "1          <py_entitymatching.matcher.rfmatcher.RFMatcher object at 0x7f1427dc9c18>   \n",
              "2        <py_entitymatching.matcher.svmmatcher.SVMMatcher object at 0x7f1427dc9518>   \n",
              "3  <py_entitymatching.matcher.linregmatcher.LinRegMatcher object at 0x7f1427dc93c8>   \n",
              "4  <py_entitymatching.matcher.logregmatcher.LogRegMatcher object at 0x7f1427dc9f98>   \n",
              "\n",
              "   Num folds    Fold 1    Fold 2    Fold 3    Fold 4    Fold 5  Mean score  \n",
              "0          5  0.631148  0.500000  0.600000  0.572650  0.626866    0.586133  \n",
              "1          5  0.784810  0.752941  0.882353  0.808824  0.787234    0.803232  \n",
              "2          5  0.903846  0.895833  0.907407  0.909091  0.905660    0.904368  \n",
              "3          5  0.982143  0.923077  0.970588  1.000000  0.985075    0.972177  \n",
              "4          5  0.965517  0.887324  0.945946  0.962264  0.956522    0.943515  "
            ]
          },
          "metadata": {
            "tags": []
          },
          "execution_count": 131
        }
      ]
    },
    {
      "metadata": {
        "id": "YatozRlR6Vnc",
        "colab_type": "code",
        "colab": {
          "base_uri": "https://localhost:8080/",
          "height": 34
        },
        "outputId": "e5c5999b-69b6-40b4-fdf4-514d814f30d5"
      },
      "cell_type": "code",
      "source": [
        "T = em.read_csv_metadata('test.csv', \n",
        "                         key='id',\n",
        "                         ltable=L_data, rtable=R_data, \n",
        "                         fk_ltable='ltable_id', fk_rtable='rtable_id')"
      ],
      "execution_count": 132,
      "outputs": [
        {
          "output_type": "stream",
          "text": [
            "Metadata file is not present in the given path; proceeding to read the csv file.\n"
          ],
          "name": "stderr"
        }
      ]
    },
    {
      "metadata": {
        "id": "22R-6YbI64EC",
        "colab_type": "code",
        "colab": {
          "base_uri": "https://localhost:8080/",
          "height": 204
        },
        "outputId": "adc0ab16-6659-41e3-8fd3-50e829db2ec3"
      },
      "cell_type": "code",
      "source": [
        "T.head()"
      ],
      "execution_count": 133,
      "outputs": [
        {
          "output_type": "execute_result",
          "data": {
            "text/html": [
              "<div>\n",
              "<style scoped>\n",
              "    .dataframe tbody tr th:only-of-type {\n",
              "        vertical-align: middle;\n",
              "    }\n",
              "\n",
              "    .dataframe tbody tr th {\n",
              "        vertical-align: top;\n",
              "    }\n",
              "\n",
              "    .dataframe thead th {\n",
              "        text-align: right;\n",
              "    }\n",
              "</style>\n",
              "<table border=\"1\" class=\"dataframe\">\n",
              "  <thead>\n",
              "    <tr style=\"text-align: right;\">\n",
              "      <th></th>\n",
              "      <th>ltable_id</th>\n",
              "      <th>rtable_id</th>\n",
              "      <th>id</th>\n",
              "    </tr>\n",
              "  </thead>\n",
              "  <tbody>\n",
              "    <tr>\n",
              "      <th>0</th>\n",
              "      <td>1853</td>\n",
              "      <td>2139</td>\n",
              "      <td>0</td>\n",
              "    </tr>\n",
              "    <tr>\n",
              "      <th>1</th>\n",
              "      <td>1718</td>\n",
              "      <td>11835</td>\n",
              "      <td>8</td>\n",
              "    </tr>\n",
              "    <tr>\n",
              "      <th>2</th>\n",
              "      <td>1624</td>\n",
              "      <td>5013</td>\n",
              "      <td>9</td>\n",
              "    </tr>\n",
              "    <tr>\n",
              "      <th>3</th>\n",
              "      <td>614</td>\n",
              "      <td>5969</td>\n",
              "      <td>10</td>\n",
              "    </tr>\n",
              "    <tr>\n",
              "      <th>4</th>\n",
              "      <td>1512</td>\n",
              "      <td>19684</td>\n",
              "      <td>15</td>\n",
              "    </tr>\n",
              "  </tbody>\n",
              "</table>\n",
              "</div>"
            ],
            "text/plain": [
              "   ltable_id  rtable_id  id\n",
              "0       1853       2139   0\n",
              "1       1718      11835   8\n",
              "2       1624       5013   9\n",
              "3        614       5969  10\n",
              "4       1512      19684  15"
            ]
          },
          "metadata": {
            "tags": []
          },
          "execution_count": 133
        }
      ]
    },
    {
      "metadata": {
        "id": "96OKzA247Cny",
        "colab_type": "code",
        "colab": {}
      },
      "cell_type": "code",
      "source": [
        "n_H = em.extract_feature_vecs(T, \n",
        "                            feature_table=F, \n",
        "                            show_progress=False)"
      ],
      "execution_count": 0,
      "outputs": []
    },
    {
      "metadata": {
        "id": "lU0DtUSq_n7A",
        "colab_type": "code",
        "colab": {
          "base_uri": "https://localhost:8080/",
          "height": 71
        },
        "outputId": "3d05a3b0-95d9-44bd-d8f0-d652ced5ce7e"
      },
      "cell_type": "code",
      "source": [
        "n_H = em.impute_table(n_H, \n",
        "                exclude_attrs=['id', 'ltable_id', 'rtable_id'],\n",
        "                strategy='mean')"
      ],
      "execution_count": 139,
      "outputs": [
        {
          "output_type": "stream",
          "text": [
            "/usr/local/lib/python3.6/dist-packages/sklearn/utils/deprecation.py:58: DeprecationWarning: Class Imputer is deprecated; Imputer was deprecated in version 0.20 and will be removed in 0.22. Import impute.SimpleImputer from sklearn instead.\n",
            "  warnings.warn(msg, category=DeprecationWarning)\n"
          ],
          "name": "stderr"
        }
      ]
    },
    {
      "metadata": {
        "id": "l7JuzcXR9Vh6",
        "colab_type": "code",
        "colab": {}
      },
      "cell_type": "code",
      "source": [
        "ln.fit(table=H, exclude_attrs=['id', 'ltable_id', 'rtable_id', 'label'], target_attr='label')"
      ],
      "execution_count": 0,
      "outputs": []
    },
    {
      "metadata": {
        "id": "LvdRVygx93rK",
        "colab_type": "code",
        "colab": {}
      },
      "cell_type": "code",
      "source": [
        "pred_table = ln.predict(table=n_H,  exclude_attrs=['id', 'ltable_id', 'rtable_id'],  append=True)"
      ],
      "execution_count": 0,
      "outputs": []
    },
    {
      "metadata": {
        "id": "BP9ZIGET9842",
        "colab_type": "code",
        "colab": {
          "base_uri": "https://localhost:8080/",
          "height": 34
        },
        "outputId": "71d98857-6301-4294-dd2d-75c70778ad95"
      },
      "cell_type": "code",
      "source": [
        "pred_table"
      ],
      "execution_count": 141,
      "outputs": [
        {
          "output_type": "execute_result",
          "data": {
            "text/plain": [
              "array([0, 0, 1, ..., 0, 0, 0])"
            ]
          },
          "metadata": {
            "tags": []
          },
          "execution_count": 141
        }
      ]
    },
    {
      "metadata": {
        "id": "sB8dKP6y9-7l",
        "colab_type": "code",
        "colab": {
          "base_uri": "https://localhost:8080/",
          "height": 34
        },
        "outputId": "00da2068-5f7b-4b34-84d1-672eb6915099"
      },
      "cell_type": "code",
      "source": [
        "len(pred_table)"
      ],
      "execution_count": 144,
      "outputs": [
        {
          "output_type": "execute_result",
          "data": {
            "text/plain": [
              "3093"
            ]
          },
          "metadata": {
            "tags": []
          },
          "execution_count": 144
        }
      ]
    },
    {
      "metadata": {
        "id": "BbCas6HQ_zbD",
        "colab_type": "code",
        "colab": {}
      },
      "cell_type": "code",
      "source": [
        "index = 0;\n",
        "with open('result.csv', 'w') as res:\n",
        "    for i in test.iterrows():\n",
        "      result_writer = csv.writer(res, delimiter=',', quotechar='\"', quoting=csv.QUOTE_MINIMAL)\n",
        "      id = i[1]['id']\n",
        "      label = pred_table[index];\n",
        "      index += 1\n",
        "      result_writer.writerow([id,label])"
      ],
      "execution_count": 0,
      "outputs": []
    },
    {
      "metadata": {
        "id": "Oh6vScnXBDZ_",
        "colab_type": "code",
        "colab": {
          "base_uri": "https://localhost:8080/",
          "height": 51
        },
        "outputId": "c9ab1fb7-14d0-4a70-b6df-2e448908f38e"
      },
      "cell_type": "code",
      "source": [
        "ls"
      ],
      "execution_count": 169,
      "outputs": [
        {
          "output_type": "stream",
          "text": [
            "ltable.csv  rtable.csv    sample_submission.csv  train.csv\n",
            "result.csv  \u001b[0m\u001b[01;34msample_data\u001b[0m/  test.csv               train_labled.csv\n"
          ],
          "name": "stdout"
        }
      ]
    },
    {
      "metadata": {
        "id": "Px1ETqbmDpDF",
        "colab_type": "code",
        "colab": {
          "base_uri": "https://localhost:8080/",
          "height": 34
        },
        "outputId": "cd5a350a-23d1-4939-d3d9-6b96ce008f9e"
      },
      "cell_type": "code",
      "source": [
        "pwd"
      ],
      "execution_count": 170,
      "outputs": [
        {
          "output_type": "execute_result",
          "data": {
            "text/plain": [
              "'/content'"
            ]
          },
          "metadata": {
            "tags": []
          },
          "execution_count": 170
        }
      ]
    },
    {
      "metadata": {
        "id": "trZ-kdm1Dp6Z",
        "colab_type": "code",
        "colab": {}
      },
      "cell_type": "code",
      "source": [
        ""
      ],
      "execution_count": 0,
      "outputs": []
    }
  ]
}